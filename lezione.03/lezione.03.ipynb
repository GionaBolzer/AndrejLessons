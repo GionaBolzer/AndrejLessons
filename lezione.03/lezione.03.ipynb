{
 "cells": [
  {
   "cell_type": "code",
   "execution_count": 3,
   "id": "5be6bc24",
   "metadata": {},
   "outputs": [],
   "source": [
    "import torch\n",
    "import torch.nn.functional as F\n",
    "import matplotlib.pyplot as plt\n",
    "device = torch.device(\"cuda\" if torch.cuda.is_available() else \"cpu\")\n",
    "%matplotlib inline "
   ]
  },
  {
   "cell_type": "code",
   "execution_count": 4,
   "id": "86fd1fe9",
   "metadata": {},
   "outputs": [
    {
     "data": {
      "text/plain": [
       "['emma', 'olivia', 'ava', 'isabella', 'sophia', 'charlotte', 'mia', 'amelia']"
      ]
     },
     "execution_count": 4,
     "metadata": {},
     "output_type": "execute_result"
    }
   ],
   "source": [
    "words = open('../names.txt', 'r').read().splitlines()\n",
    "words[:8]"
   ]
  },
  {
   "cell_type": "code",
   "execution_count": 5,
   "id": "18f3a9d8",
   "metadata": {},
   "outputs": [
    {
     "data": {
      "text/plain": [
       "32033"
      ]
     },
     "execution_count": 5,
     "metadata": {},
     "output_type": "execute_result"
    }
   ],
   "source": [
    "len(words)"
   ]
  },
  {
   "cell_type": "code",
   "execution_count": 6,
   "id": "5efe179c",
   "metadata": {},
   "outputs": [],
   "source": [
    "# create a relation from unique caracther to integer e viceversa\n",
    "chars = sorted(list(set(''.join(words))))\n",
    "stoi = {s:i+1 for i,s in enumerate(chars)}\n",
    "stoi['.'] = 0\n",
    "itos = {i:s for s,i in stoi.items()}"
   ]
  },
  {
   "cell_type": "code",
   "execution_count": 7,
   "id": "e67edd52",
   "metadata": {},
   "outputs": [
    {
     "data": {
      "text/plain": [
       "(torch.Size([228146, 3]), torch.Size([228146]))"
      ]
     },
     "execution_count": 7,
     "metadata": {},
     "output_type": "execute_result"
    }
   ],
   "source": [
    "block_size = 3\n",
    "X,Y = [], []\n",
    "\n",
    "for w in words:\n",
    "#     print(w)\n",
    "    context = [0] * block_size\n",
    "    for c in w + '.':\n",
    "        ix = stoi[c]\n",
    "        X.append(context)\n",
    "        Y.append(ix)\n",
    "#         print(f\"{''.join(itos[i] for i in context)} ---> {c}\")\n",
    "        context = context[1:] + [ix]\n",
    "X = torch.tensor(X)\n",
    "Y = torch.tensor(Y)\n",
    "X.shape, Y.shape"
   ]
  },
  {
   "cell_type": "code",
   "execution_count": 8,
   "id": "1068bc79",
   "metadata": {},
   "outputs": [],
   "source": [
    "C = torch.randn(27,2)"
   ]
  },
  {
   "cell_type": "code",
   "execution_count": 9,
   "id": "b77a4f5a",
   "metadata": {},
   "outputs": [
    {
     "data": {
      "text/plain": [
       "torch.Size([228146, 3, 2])"
      ]
     },
     "execution_count": 9,
     "metadata": {},
     "output_type": "execute_result"
    }
   ],
   "source": [
    "emb = C[X]\n",
    "emb.shape"
   ]
  },
  {
   "cell_type": "code",
   "execution_count": 10,
   "id": "de06c1fb",
   "metadata": {},
   "outputs": [],
   "source": [
    "W1 = torch.randn(6,100)\n",
    "b1 = torch.randn(100)"
   ]
  },
  {
   "cell_type": "code",
   "execution_count": 11,
   "id": "2778d15f",
   "metadata": {},
   "outputs": [
    {
     "data": {
      "text/plain": [
       "tensor([[-1.4051,  1.5790, -1.4051,  1.5790, -1.4051,  1.5790],\n",
       "        [-1.4051,  1.5790, -1.4051,  1.5790, -2.2094,  0.5994],\n",
       "        [-1.4051,  1.5790, -2.2094,  0.5994,  0.9914, -1.4793],\n",
       "        [-2.2094,  0.5994,  0.9914, -1.4793,  0.9914, -1.4793]])"
      ]
     },
     "execution_count": 11,
     "metadata": {},
     "output_type": "execute_result"
    }
   ],
   "source": [
    "torch.cat(torch.unbind(emb,1),1)[:4]"
   ]
  },
  {
   "cell_type": "code",
   "execution_count": 12,
   "id": "cc3cd954",
   "metadata": {},
   "outputs": [
    {
     "data": {
      "text/plain": [
       "torch.Size([228146, 100])"
      ]
     },
     "execution_count": 12,
     "metadata": {},
     "output_type": "execute_result"
    }
   ],
   "source": [
    "# much more efficient, view() dont copy tensor just the manipulation of the posistion of the number\n",
    "\n",
    "h = torch.tanh(emb.view(-1,6) @ W1 + b1)\n",
    "h.shape"
   ]
  },
  {
   "cell_type": "code",
   "execution_count": 13,
   "id": "14b4077f",
   "metadata": {},
   "outputs": [],
   "source": [
    "# second layer, inputs 100 neurons output 27 neurons, for each cara. prediction\n",
    "\n",
    "W2 = torch.randn(100,27)\n",
    "b2 = torch.randn(27)\n",
    "\n",
    "logits = h @ W2 + b2\n",
    "\n",
    "counts = logits.exp()\n",
    "prob = counts / counts.sum(1, keepdim = True)"
   ]
  },
  {
   "cell_type": "code",
   "execution_count": 15,
   "id": "dfe5d0d4",
   "metadata": {},
   "outputs": [
    {
     "ename": "IndexError",
     "evalue": "shape mismatch: indexing tensors could not be broadcast together with shapes [32], [228146]",
     "output_type": "error",
     "traceback": [
      "\u001b[1;31m---------------------------------------------------------------------------\u001b[0m",
      "\u001b[1;31mIndexError\u001b[0m                                Traceback (most recent call last)",
      "Cell \u001b[1;32mIn[15], line 2\u001b[0m\n\u001b[0;32m      1\u001b[0m \u001b[38;5;66;03m# guardiamo , per i 32 esempi X, la probabilita assegnata al modello per il caratere vero Y\u001b[39;00m\n\u001b[1;32m----> 2\u001b[0m loss \u001b[38;5;241m=\u001b[39m \u001b[38;5;241m-\u001b[39m\u001b[43mprob\u001b[49m\u001b[43m[\u001b[49m\u001b[43mtorch\u001b[49m\u001b[38;5;241;43m.\u001b[39;49m\u001b[43marange\u001b[49m\u001b[43m(\u001b[49m\u001b[38;5;241;43m32\u001b[39;49m\u001b[43m)\u001b[49m\u001b[43m,\u001b[49m\u001b[43mY\u001b[49m\u001b[43m]\u001b[49m\u001b[38;5;241m.\u001b[39mlog()\u001b[38;5;241m.\u001b[39mmean()\n\u001b[0;32m      3\u001b[0m loss\n",
      "\u001b[1;31mIndexError\u001b[0m: shape mismatch: indexing tensors could not be broadcast together with shapes [32], [228146]"
     ]
    }
   ],
   "source": [
    "# guardiamo , per i 32 esempi X, la probabilita assegnata al modello per il caratere vero Y\n",
    "loss = -prob[torch.arange(32),Y].log().mean()\n",
    "loss"
   ]
  },
  {
   "cell_type": "code",
   "execution_count": 16,
   "id": "8cbd6e4c",
   "metadata": {},
   "outputs": [
    {
     "data": {
      "text/plain": [
       "(torch.Size([228146, 3]), torch.Size([228146]))"
      ]
     },
     "execution_count": 16,
     "metadata": {},
     "output_type": "execute_result"
    }
   ],
   "source": [
    "# --------- more respecatable --------------\n",
    "X.shape, Y.shape # datasets"
   ]
  },
  {
   "cell_type": "code",
   "execution_count": 27,
   "id": "3b7bee94",
   "metadata": {},
   "outputs": [],
   "source": [
    "# --------- more respecatable --------------\n",
    "g = torch.Generator(device = device).manual_seed(2147483647)\n",
    "C = torch.randn(27,2, generator = g, device = device)\n",
    "W1 = torch.randn(6,100, generator = g, device = device)\n",
    "b1 = torch.randn(100, generator = g, device = device)\n",
    "W2 = torch.randn(100,27, generator = g, device = device)\n",
    "b2 = torch.randn(27, generator = g, device = device)\n",
    "parameters = [C,W1,b1,W2,b2]"
   ]
  },
  {
   "cell_type": "code",
   "execution_count": 18,
   "id": "a6858cf1",
   "metadata": {},
   "outputs": [
    {
     "data": {
      "text/plain": [
       "3481"
      ]
     },
     "execution_count": 18,
     "metadata": {},
     "output_type": "execute_result"
    }
   ],
   "source": [
    "sum(p.nelement() for p in parameters) # number of parameters in the mdodel"
   ]
  },
  {
   "cell_type": "code",
   "execution_count": 19,
   "id": "5524ab03",
   "metadata": {},
   "outputs": [],
   "source": [
    "# cross entropy\n",
    "# counts = logits.exp()\n",
    "# prob = counts / counts.sum(1, keepdim = True)\n",
    "# loss = -prob[torch.arange(32),Y].log().mean()"
   ]
  },
  {
   "cell_type": "code",
   "execution_count": 20,
   "id": "a51d6c89",
   "metadata": {},
   "outputs": [],
   "source": [
    "for p in parameters:\n",
    "    p.requires_grad = True"
   ]
  },
  {
   "cell_type": "code",
   "execution_count": 21,
   "id": "36697351",
   "metadata": {
    "scrolled": true
   },
   "outputs": [
    {
     "name": "stdout",
     "output_type": "stream",
     "text": [
      "loss of just the minibacth 5.004647731781006\n"
     ]
    },
    {
     "data": {
      "image/png": "[encoded data removed]",
      "text/plain": [
       "<Figure size 640x480 with 1 Axes>"
      ]
     },
     "metadata": {},
     "output_type": "display_data"
    }
   ],
   "source": [
    "lossi = []\n",
    "\n",
    "for _ in range(10000):\n",
    "    # minibatch\n",
    "    ix = torch.randint(0,X.shape[0], (1000,)) # prevela 32 esempi rand da X\n",
    "    \n",
    "    # forward pass\n",
    "    emb = C[X[ix]]\n",
    "    h = torch.tanh(emb.view(-1,6) @ W1 + b1)\n",
    "    logits = h @ W2 + b2\n",
    "    # more efficient, same as above but with pytorch\n",
    "    # best prat.\n",
    "    loss = F.cross_entropy(logits, Y[ix])\n",
    "    loss\n",
    "    \n",
    "    #bacward pass\n",
    "    for p in parameters:\n",
    "        p.grad = None\n",
    "    loss.backward()\n",
    "    \n",
    "    #update\n",
    "    for p in parameters:\n",
    "        p.data += -0.0005 * p.grad # how to determind learning rate\n",
    "    \n",
    "    # stats\n",
    "    lossi.append(loss.item())\n",
    "# calcolare il gradiente solo su 32 esempi rand alla volta, rispetto \n",
    "# che su tutto il db, lo fa diventare non accurato, ma la velcita di\n",
    "# e piu alta e ci permette di fare piu iterazioni ed arrivare\n",
    "# al minimo di loss + velocemente.\n",
    "plt.plot(lossi)\n",
    "print(\"loss of just the minibacth\",loss.item())"
   ]
  },
  {
   "cell_type": "code",
   "execution_count": 22,
   "id": "af52fda4",
   "metadata": {},
   "outputs": [
    {
     "name": "stdout",
     "output_type": "stream",
     "text": [
      "loss of all db 5.091203689575195\n"
     ]
    }
   ],
   "source": [
    "# loss of all the database post training\n",
    "emb = C[X]\n",
    "h = torch.tanh(emb.view(-1,6) @ W1 + b1)\n",
    "logits = h @ W2 + b2\n",
    "loss = F.cross_entropy(logits, Y)\n",
    "print(\"loss of all db\", loss.item())"
   ]
  },
  {
   "cell_type": "code",
   "execution_count": 23,
   "id": "c014acb3",
   "metadata": {},
   "outputs": [],
   "source": [
    "# divide the db: training split, dev/valid split, test split\n",
    "# 80%, 10%, 10%\n",
    "# 1- training the parameters\n",
    "# 2- training the iperparameters\n",
    "# 3- test for final review"
   ]
  },
  {
   "cell_type": "code",
   "execution_count": null,
   "id": "2a604748",
   "metadata": {},
   "outputs": [],
   "source": []
  }
 ],
 "metadata": {
  "kernelspec": {
   "display_name": "Python 3 (ipykernel)",
   "language": "python",
   "name": "python3"
  },
  "language_info": {
   "codemirror_mode": {
    "name": "ipython",
    "version": 3
   },
   "file_extension": ".py",
   "mimetype": "text/x-python",
   "name": "python",
   "nbconvert_exporter": "python",
   "pygments_lexer": "ipython3",
   "version": "3.10.8"
  }
 },
 "nbformat": 4,
 "nbformat_minor": 5
}
